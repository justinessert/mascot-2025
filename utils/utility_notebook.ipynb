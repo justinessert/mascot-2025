{
 "cells": [
  {
   "cell_type": "code",
   "execution_count": 34,
   "id": "0c1f955a",
   "metadata": {},
   "outputs": [],
   "source": [
    "import os\n",
    "import json"
   ]
  },
  {
   "cell_type": "code",
   "execution_count": 36,
   "id": "80e3f01b",
   "metadata": {},
   "outputs": [],
   "source": [
    "day_strings = [\n",
    "    \"03_20_2025\",\n",
    "    \"03_21_2025\",\n",
    "]\n",
    "\n",
    "days = []\n",
    "for day_string in day_strings:\n",
    "    with open(f\"data/scoreboard_{day_string}.json\", \"r\") as fp:\n",
    "        day = json.load(fp)\n",
    "    \n",
    "    days.append(day)"
   ]
  },
  {
   "cell_type": "code",
   "execution_count": 37,
   "id": "820acdb3",
   "metadata": {},
   "outputs": [],
   "source": [
    "def simplify_game(game):\n",
    "    winner = None;\n",
    "    if game[\"game\"][\"home\"][\"winner\"]:\n",
    "        winner = game[\"game\"][\"home\"][\"names\"][\"seo\"]\n",
    "    elif game[\"game\"][\"away\"][\"winner\"]:\n",
    "        winner = game[\"game\"][\"away\"][\"names\"][\"seo\"]\n",
    "\n",
    "    data = {\n",
    "        \"gameId\": game[\"game\"][\"gameID\"],\n",
    "        \"homeTeam\": game[\"game\"][\"home\"][\"names\"][\"seo\"],\n",
    "        \"awayTeam\": game[\"game\"][\"away\"][\"names\"][\"seo\"],\n",
    "        \"homeScore\": game[\"game\"][\"home\"][\"score\"],\n",
    "        \"awayScore\": game[\"game\"][\"away\"][\"score\"],\n",
    "        \"gameDate\": game[\"game\"][\"startDate\"],\n",
    "        \"status\": game[\"game\"][\"currentPeriod\"],\n",
    "        \"bracketId\": game[\"game\"].get(\"bracketId\"),\n",
    "        \"winner\": winner,\n",
    "    }\n",
    "    return data\n",
    "\n",
    "simplified = []\n",
    "for day in days:\n",
    "\tday_simplified = [simplify_game(x) for x in day[\"games\"]]\n",
    "\tsimplified.extend(day_simplified)\n",
    "    \n",
    "simplified = sorted(simplified, key=lambda x: x[\"bracketId\"])"
   ]
  },
  {
   "cell_type": "code",
   "execution_count": 38,
   "id": "5f51eb6a",
   "metadata": {
    "scrolled": true
   },
   "outputs": [
    {
     "name": "stdout",
     "output_type": "stream",
     "text": [
      "auburn vs  - 2640422\n",
      "louisville vs creighton - 2640423\n",
      "michigan vs uc-san-diego - 2640430\n",
      "texas-am vs yale - 2640431\n",
      "ole-miss vs  - 2640446\n",
      "iowa-st vs lipscomb - 2640447\n",
      "marquette vs new-mexico - 2640438\n",
      "michigan-st vs bryant - 2640439\n",
      "florida vs norfolk-st - 2640442\n",
      "uconn vs oklahoma - 2640443\n",
      "memphis vs colorado-st - 2640450\n",
      "maryland vs grand-canyon - 2640451\n",
      "missouri vs drake - 2640426\n",
      "texas-tech vs unc-wilmington - 2640427\n",
      "kansas vs arkansas - 2640434\n",
      "st-johns-ny vs neb-omaha - 2640435\n",
      "duke vs  - 2640444\n",
      "mississippi-st vs baylor - 2640445\n",
      "oregon vs liberty - 2640452\n",
      "arizona vs akron - 2640453\n",
      "byu vs vcu - 2640432\n",
      "wisconsin vs montana - 2640433\n",
      "st-marys-ca vs vanderbilt - 2640440\n",
      "alabama vs robert-morris - 2640441\n",
      "houston vs siu-edwardsville - 2640428\n",
      "gonzaga vs georgia - 2640429\n",
      "clemson vs mcneese - 2640436\n",
      "purdue vs high-point - 2640437\n",
      "illinois vs  - 2640448\n",
      "kentucky vs troy - 2640449\n",
      "ucla vs utah-st - 2640424\n",
      "tennessee vs wofford - 2640425\n"
     ]
    }
   ],
   "source": [
    "for x in simplified:\n",
    "\tbase_str = f\"{x['homeTeam']} vs {x['awayTeam']} - {x['gameId']}\"\n",
    "\tmsg = base_str if x[\"bracketId\"] else f\"*{base_str}\"\n",
    "\tprint(msg)"
   ]
  },
  {
   "cell_type": "code",
   "execution_count": 39,
   "id": "b31ecf9a",
   "metadata": {},
   "outputs": [],
   "source": [
    "bracket_data = {\n",
    "  \"south\": {\n",
    "    \"round_1\": [\"2640422\", \"2640439\", \"2640447\", \"2640431\", \"2640430\", \"2640446\", \"2640438\", \"2640423\"],\n",
    "    \"round_2\": [None, None, None, None],\n",
    "    \"round_3\": [None, None],\n",
    "    \"round_4\": [None],\n",
    "  },\n",
    "  \"west\": {\n",
    "    \"round_1\": [\"2640442\", \"2640435\", \"2640427\", \"2640451\", \"2640450\", \"2640426\", \"2640434\", \"2640443\"],\n",
    "    \"round_2\": [None, None, None, None],\n",
    "    \"round_3\": [None, None],\n",
    "    \"round_4\": [None],\n",
    "  },\n",
    "  \"east\": {\n",
    "    \"round_1\": [\"2640444\", \"2640441\", \"2640433\", \"2640453\", \"2640452\", \"2640432\", \"2640440\", \"2640445\"],\n",
    "    \"round_2\": [None, None, None, None],\n",
    "    \"round_3\": [None, None],\n",
    "    \"round_4\": [None],\n",
    "  },\n",
    "  \"midwest\": {\n",
    "    \"round_1\": [\"2640428\", \"2640425\", \"2640449\", \"2640437\", \"2640436\", \"2640448\", \"2640424\", \"2640429\"],\n",
    "    \"round_2\": [None, None, None, None],\n",
    "    \"round_3\": [None, None],\n",
    "    \"round_4\": [None],\n",
    "  },\n",
    "  \"final_four\": {\n",
    "      \"round_1\": [None, None],\n",
    "      \"round_2\": [None],\n",
    "  }\n",
    "}\n",
    "\n",
    "data = {\n",
    "    \"year\": 2025,\n",
    "    \"newMappings\": bracket_data,\n",
    "}\n",
    "\n",
    "with open(f\"data/mappings_{data['year']}.json\", \"w\") as fp:\n",
    "\tjson.dump(data, fp)"
   ]
  },
  {
   "cell_type": "code",
   "execution_count": null,
   "id": "18c6e31e",
   "metadata": {},
   "outputs": [],
   "source": []
  }
 ],
 "metadata": {
  "kernelspec": {
   "display_name": "Python 3 (ipykernel)",
   "language": "python",
   "name": "python3"
  },
  "language_info": {
   "codemirror_mode": {
    "name": "ipython",
    "version": 3
   },
   "file_extension": ".py",
   "mimetype": "text/x-python",
   "name": "python",
   "nbconvert_exporter": "python",
   "pygments_lexer": "ipython3",
   "version": "3.9.16"
  }
 },
 "nbformat": 4,
 "nbformat_minor": 5
}
