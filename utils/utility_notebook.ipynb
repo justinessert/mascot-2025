{
 "cells": [
  {
   "cell_type": "code",
   "execution_count": 11,
   "id": "0c1f955a",
   "metadata": {},
   "outputs": [],
   "source": [
    "import os\n",
    "import json"
   ]
  },
  {
   "cell_type": "code",
   "execution_count": 12,
   "id": "80e3f01b",
   "metadata": {},
   "outputs": [],
   "source": [
    "day_strings = [\n",
    "    \"04_05_2025\",\n",
    "]\n",
    "\n",
    "days = []\n",
    "for day_string in day_strings:\n",
    "    year = day_string.split(\"_\")[-1]\n",
    "    with open(f\"data/{year}/scoreboard_{day_string}.json\", \"r\") as fp:\n",
    "        day = json.load(fp)\n",
    "    \n",
    "    days.append(day)"
   ]
  },
  {
   "cell_type": "code",
   "execution_count": 13,
   "id": "820acdb3",
   "metadata": {},
   "outputs": [],
   "source": [
    "def simplify_game(game):\n",
    "    winner = None;\n",
    "    if game[\"game\"][\"home\"][\"winner\"]:\n",
    "        winner = game[\"game\"][\"home\"][\"names\"][\"seo\"]\n",
    "    elif game[\"game\"][\"away\"][\"winner\"]:\n",
    "        winner = game[\"game\"][\"away\"][\"names\"][\"seo\"]\n",
    "\n",
    "    data = {\n",
    "        \"gameId\": game[\"game\"][\"gameID\"],\n",
    "        \"homeTeam\": game[\"game\"][\"home\"][\"names\"][\"seo\"],\n",
    "        \"awayTeam\": game[\"game\"][\"away\"][\"names\"][\"seo\"],\n",
    "        \"homeScore\": game[\"game\"][\"home\"][\"score\"],\n",
    "        \"awayScore\": game[\"game\"][\"away\"][\"score\"],\n",
    "        \"gameDate\": game[\"game\"][\"startDate\"],\n",
    "        \"status\": game[\"game\"][\"currentPeriod\"],\n",
    "        \"bracketId\": game[\"game\"].get(\"bracketId\"),\n",
    "        \"winner\": winner,\n",
    "    }\n",
    "    return data\n",
    "\n",
    "simplified = []\n",
    "for day in days:\n",
    "\tday_simplified = [simplify_game(x) for x in day[\"games\"]]\n",
    "\tsimplified.extend(day_simplified)\n",
    "    \n",
    "simplified = sorted(simplified, key=lambda x: x[\"bracketId\"])"
   ]
  },
  {
   "cell_type": "code",
   "execution_count": 14,
   "id": "5f51eb6a",
   "metadata": {
    "scrolled": true
   },
   "outputs": [
    {
     "name": "stdout",
     "output_type": "stream",
     "text": [
      "auburn vs florida - 2640599\n",
      "duke vs houston - 2640600\n"
     ]
    }
   ],
   "source": [
    "for x in simplified:\n",
    "\tbase_str = f\"{x['homeTeam']} vs {x['awayTeam']} - {x['gameId']}\"\n",
    "\tmsg = base_str if x[\"bracketId\"] else f\"*{base_str}\"\n",
    "\tprint(msg)"
   ]
  },
  {
   "cell_type": "code",
   "execution_count": 10,
   "id": "b31ecf9a",
   "metadata": {},
   "outputs": [],
   "source": [
    "bracket_data = {\n",
    "  \"south\": {\n",
    "    \"round_1\": [\"2640422\", \"2640439\", \"2640447\", \"2640431\", \"2640430\", \"2640446\", \"2640438\", \"2640423\"],\n",
    "    \"round_2\": [\"2640460\", \"2640466\", \"2640462\", \"2640456\"],\n",
    "    \"round_3\": [\"2640476\", \"2640477\"],\n",
    "    \"round_4\": [\"2640481\"],\n",
    "  },\n",
    "  \"west\": {\n",
    "    \"round_1\": [\"2640442\", \"2640435\", \"2640427\", \"2640451\", \"2640450\", \"2640426\", \"2640434\", \"2640443\"],\n",
    "    \"round_2\": [\"2640468\", \"2640458\", \"2640454\", \"2640464\"],\n",
    "    \"round_3\": [\"2640470\", \"2640471\"],\n",
    "    \"round_4\": [\"2640478\"],\n",
    "  },\n",
    "  \"east\": {\n",
    "    \"round_1\": [\"2640444\", \"2640441\", \"2640433\", \"2640453\", \"2640452\", \"2640432\", \"2640440\", \"2640445\"],\n",
    "    \"round_2\": [\"2640469\", \"2640467\", \"2640457\", \"2640465\"],\n",
    "    \"round_3\": [\"2640472\", \"2640473\"],\n",
    "    \"round_4\": [\"2640479\"],\n",
    "  },\n",
    "  \"midwest\": {\n",
    "    \"round_1\": [\"2640428\", \"2640425\", \"2640449\", \"2640437\", \"2640436\", \"2640448\", \"2640424\", \"2640429\"],\n",
    "    \"round_2\": [\"2640455\", \"2640461\", \"2640463\", \"2640459\"],\n",
    "    \"round_3\": [\"2640474\", \"2640475\"],\n",
    "    \"round_4\": [\"2640480\"],\n",
    "  },\n",
    "  \"final_four\": {\n",
    "      \"round_1\": [\"2640599\", \"2640600\"],\n",
    "      \"round_2\": [\"2640598\"],\n",
    "  }\n",
    "}\n",
    "\n",
    "data = {\n",
    "    \"year\": 2025,\n",
    "    \"newMappings\": bracket_data,\n",
    "}\n",
    "\n",
    "with open(f\"data/mappings_{data['year']}.json\", \"w\") as fp:\n",
    "\tjson.dump(data, fp)"
   ]
  },
  {
   "cell_type": "code",
   "execution_count": null,
   "id": "18c6e31e",
   "metadata": {},
   "outputs": [],
   "source": []
  }
 ],
 "metadata": {
  "kernelspec": {
   "display_name": "Python 3 (ipykernel)",
   "language": "python",
   "name": "python3"
  },
  "language_info": {
   "codemirror_mode": {
    "name": "ipython",
    "version": 3
   },
   "file_extension": ".py",
   "mimetype": "text/x-python",
   "name": "python",
   "nbconvert_exporter": "python",
   "pygments_lexer": "ipython3",
   "version": "3.9.16"
  }
 },
 "nbformat": 4,
 "nbformat_minor": 5
}
