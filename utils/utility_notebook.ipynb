{
 "cells": [
  {
   "cell_type": "code",
   "execution_count": 28,
   "id": "0c1f955a",
   "metadata": {},
   "outputs": [],
   "source": [
    "import os\n",
    "import json"
   ]
  },
  {
   "cell_type": "code",
   "execution_count": 29,
   "id": "80e3f01b",
   "metadata": {},
   "outputs": [],
   "source": [
    "day_strings = [\n",
    "    \"03_30_2024\",\n",
    "    \"03_31_2024\",\n",
    "]\n",
    "\n",
    "days = []\n",
    "for day_string in day_strings:\n",
    "    with open(f\"data/scoreboard_{day_string}.json\", \"r\") as fp:\n",
    "        day = json.load(fp)\n",
    "    \n",
    "    days.append(day)"
   ]
  },
  {
   "cell_type": "code",
   "execution_count": 30,
   "id": "820acdb3",
   "metadata": {},
   "outputs": [],
   "source": [
    "def simplify_game(game):\n",
    "    winner = None;\n",
    "    if game[\"game\"][\"home\"][\"winner\"]:\n",
    "        winner = game[\"game\"][\"home\"][\"names\"][\"seo\"]\n",
    "    elif game[\"game\"][\"away\"][\"winner\"]:\n",
    "        winner = game[\"game\"][\"away\"][\"names\"][\"seo\"]\n",
    "\n",
    "    data = {\n",
    "        \"gameId\": game[\"game\"][\"gameID\"],\n",
    "        \"homeTeam\": game[\"game\"][\"home\"][\"names\"][\"seo\"],\n",
    "        \"awayTeam\": game[\"game\"][\"away\"][\"names\"][\"seo\"],\n",
    "        \"homeScore\": game[\"game\"][\"home\"][\"score\"],\n",
    "        \"awayScore\": game[\"game\"][\"away\"][\"score\"],\n",
    "        \"gameDate\": game[\"game\"][\"startDate\"],\n",
    "        \"status\": game[\"game\"][\"currentPeriod\"],\n",
    "        \"bracketId\": game[\"game\"].get(\"bracketId\"),\n",
    "        \"winner\": winner,\n",
    "    }\n",
    "    return data\n",
    "\n",
    "simplified = []\n",
    "for day in days:\n",
    "\tday_simplified = [simplify_game(x) for x in day[\"games\"]]\n",
    "\tsimplified.extend(day_simplified)\n",
    "    \n",
    "simplified = sorted(simplified, key=lambda x: x[\"bracketId\"])"
   ]
  },
  {
   "cell_type": "code",
   "execution_count": 31,
   "id": "5f51eb6a",
   "metadata": {},
   "outputs": [
    {
     "name": "stdout",
     "output_type": "stream",
     "text": [
      "uconn vs illinois - 2427589\n",
      "alabama vs clemson - 2427588\n",
      "duke vs north-carolina-st - 2427591\n",
      "purdue vs tennessee - 2427590\n"
     ]
    }
   ],
   "source": [
    "for x in simplified:\n",
    "\tbase_str = f\"{x['homeTeam']} vs {x['awayTeam']} - {x['gameId']}\"\n",
    "\tmsg = base_str if x[\"bracketId\"] else f\"*{base_str}\"\n",
    "\tprint(msg)"
   ]
  },
  {
   "cell_type": "code",
   "execution_count": 33,
   "id": "b31ecf9a",
   "metadata": {},
   "outputs": [],
   "source": [
    "bracket_data = {\n",
    "  \"east\": {\n",
    "    \"round_1\": [\"2427552\", \"2427535\", \"2427533\", \"2427561\", \"2427560\", \"2427532\", \"2427534\", \"2427553\"],\n",
    "    \"round_2\": [\"2427574\", \"2427565\", \"2427564\", \"2427576\"],\n",
    "    \"round_3\": [\"2427582\", \"0d2ddc68-9f3a-4f11-acb1-b51ec7ce8a61\"],\n",
    "    \"round_4\": [\"2427589\"],\n",
    "  },\n",
    "  \"west\": {\n",
    "    \"round_1\": [\"2427536\", \"2427541\", \"2427557\", \"2427563\", \"4e8abf66-2976-4416-841f-22a3487297a7\", \"2427556\", \"2427540\", \"2427537\"],\n",
    "    \"round_2\": [\"2427566\", \"2427570\", \"2427578\", \"2427577\"],\n",
    "    \"round_3\": [\"2427580\", \"2427581\"],\n",
    "    \"round_4\": [\"2427588\"],\n",
    "  },\n",
    "  \"south\": {\n",
    "    \"round_1\": [\"2427558\", \"2427549\", \"2427545\", \"2427555\", \"2427554\", \"2427544\", \"2427548\", \"2427559\"],\n",
    "    \"round_2\": [\"2427579\", \"2427572\", \"2427568\", \"2427575\"],\n",
    "    \"round_3\": [\"2427584\", \"2427585\"],\n",
    "    \"round_4\": [\"2427591\"],\n",
    "  },\n",
    "  \"midwest\": {\n",
    "    \"round_1\": [\"2427550\", \"2427539\", \"2427547\", \"2427543\", \"2427542\", \"2427546\", \"2427538\", \"2427551\"],\n",
    "    \"round_2\": [\"2427573\", \"2427567\", \"06c5b447-739d-472a-82f2-1805da284778\", \"2427571\"],\n",
    "    \"round_3\": [\"2427586\", \"2427587\"],\n",
    "    \"round_4\": [\"2427590\"],\n",
    "  },\n",
    "  \"final_four\": {\n",
    "      \"round_1\": [\"2427592\", \"2427593\"],\n",
    "      \"round_2\": [\"2427594\"],\n",
    "  }\n",
    "}\n",
    "\n",
    "data = {\n",
    "    \"year\": 2024,\n",
    "    \"newMappings\": bracket_data,\n",
    "}\n",
    "\n",
    "with open(f\"data/mappings_{data['year']}.json\", \"w\") as fp:\n",
    "\tjson.dump(data, fp)"
   ]
  },
  {
   "cell_type": "code",
   "execution_count": null,
   "id": "18c6e31e",
   "metadata": {},
   "outputs": [],
   "source": []
  }
 ],
 "metadata": {
  "kernelspec": {
   "display_name": "Python 3 (ipykernel)",
   "language": "python",
   "name": "python3"
  },
  "language_info": {
   "codemirror_mode": {
    "name": "ipython",
    "version": 3
   },
   "file_extension": ".py",
   "mimetype": "text/x-python",
   "name": "python",
   "nbconvert_exporter": "python",
   "pygments_lexer": "ipython3",
   "version": "3.9.16"
  }
 },
 "nbformat": 4,
 "nbformat_minor": 5
}
