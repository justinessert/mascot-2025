{
 "cells": [
  {
   "cell_type": "code",
   "execution_count": 1,
   "id": "b464afd4",
   "metadata": {},
   "outputs": [],
   "source": []
  },
  {
   "cell_type": "code",
   "execution_count": 2,
   "id": "32b4e49c",
   "metadata": {},
   "outputs": [],
   "source": []
  },
  {
   "cell_type": "code",
   "execution_count": 4,
   "id": "a0619a99",
   "metadata": {},
   "outputs": [],
   "source": [
    "special_ncaa_names = {\n",
    "    \"central_connecticut_state\": \"central-conn-st\",\n",
    "    \"charleston\": \"col-of-charleston\",\n",
    "    \"csu_fullerton\": \"cal-st-fullerton\",\n",
    "    \"eastern_kentucky\": \"eastern-ky\",\n",
    "    \"east_washington\": \"eastern-wash\",\n",
    "    \"florida_atlantic\": \"fla-atlantic\",\n",
    "    \"grambling_state\": \"grambling\",\n",
    "    \"little_rock\": \"ualr\",\n",
    "    \"louisiana\": \"la-lafayette\",\n",
    "    \"mcneese\": \"mcneese-st\",\n",
    "    \"miami\": \"miami-fl\",\n",
    "    \"nc_state\": \"north-carolina-st\",\n",
    "    \"northern_iowa\": \"uni\",\n",
    "    \"northern_kentucky\": \"northern-ky\",\n",
    "    \"saint_johns\": \"st-johns-ny\",\n",
    "    \"saint_marys\": \"st-marys-ca\",\n",
    "    \"saint_peters\": \"st-peters\",\n",
    "    \"sam_houston\": \"sam-houston-st\",\n",
    "    \"south_florida\": \"south-fla\",\n",
    "    \"southeast_missouri_state\": \"southeast-mo-st\",\n",
    "    \"texas_a&m_cc\": \"am-corpus-chris\",\n",
    "    \"texas_a&m\": \"texas-am\",\n",
    "    \"ucsb\": \"uc-santa-barbara\",\n",
    "    \"usc\": \"southern-california\",\n",
    "    \"western_kentucky\": \"western-ky\",\n",
    "}\n",
    "\n",
    "def transform(x):\n",
    "    x = special_ncaa_names.get(x, x)\n",
    "    return x.replace(\"_\", \"-\").replace(\"state\", \"st\")\n",
    "\n",
    "for x in nicknames.keys():\n",
    "    data = [y for y in db_data if y[\"slug\"] == transform(x)]\n",
    "    if not data:\n",
    "        print(x)"
   ]
  },
  {
   "cell_type": "code",
   "execution_count": 7,
   "id": "0c1f955a",
   "metadata": {},
   "outputs": [],
   "source": []
  },
  {
   "cell_type": "code",
   "execution_count": 21,
   "id": "820acdb3",
   "metadata": {},
   "outputs": [],
   "source": [
    "game = day[\"games\"][0]\n",
    "\n",
    "def simplify_game(game):\n",
    "    winner = None;\n",
    "    if game[\"game\"][\"home\"][\"winner\"]:\n",
    "        winner = game[\"game\"][\"home\"][\"names\"][\"seo\"]\n",
    "    elif game[\"game\"][\"away\"][\"winner\"]:\n",
    "        winner = game[\"game\"][\"away\"][\"names\"][\"seo\"]\n",
    "\n",
    "    data = {\n",
    "        \"gameId\": game[\"game\"][\"gameID\"],\n",
    "        \"homeTeam\": game[\"game\"][\"home\"][\"names\"][\"seo\"],\n",
    "        \"awayTeam\": game[\"game\"][\"away\"][\"names\"][\"seo\"],\n",
    "        \"homeScore\": game[\"game\"][\"home\"][\"score\"],\n",
    "        \"awayScore\": game[\"game\"][\"away\"][\"score\"],\n",
    "        \"gameDate\": game[\"game\"][\"startDate\"],\n",
    "        \"status\": game[\"game\"][\"currentPeriod\"],\n",
    "        \"bracketId\": game[\"game\"].get(\"bracketId\"),\n",
    "        \"winner\": winner,\n",
    "    }\n",
    "    return data\n",
    "\n",
    "day_simplified = [simplify_game(x) for x in day[\"games\"]]"
   ]
  },
  {
   "cell_type": "code",
   "execution_count": 24,
   "id": "5f51eb6a",
   "metadata": {},
   "outputs": [
    {
     "data": {
      "text/plain": [
       "[{'gameId': '2427532',\n",
       "  'homeTeam': 'byu',\n",
       "  'awayTeam': 'duquesne',\n",
       "  'homeScore': '67',\n",
       "  'awayScore': '71',\n",
       "  'gameDate': '03-21-2024',\n",
       "  'status': 'FINAL',\n",
       "  'bracketId': '205',\n",
       "  'winner': 'duquesne'},\n",
       " {'gameId': '2427533',\n",
       "  'homeTeam': 'illinois',\n",
       "  'awayTeam': 'morehead-st',\n",
       "  'homeScore': '85',\n",
       "  'awayScore': '69',\n",
       "  'gameDate': '03-21-2024',\n",
       "  'status': 'FINAL',\n",
       "  'bracketId': '206',\n",
       "  'winner': 'illinois'},\n",
       " {'gameId': '2427534',\n",
       "  'homeTeam': 'washington-st',\n",
       "  'awayTeam': 'drake',\n",
       "  'homeScore': '66',\n",
       "  'awayScore': '61',\n",
       "  'gameDate': '03-21-2024',\n",
       "  'status': 'FINAL',\n",
       "  'bracketId': '207',\n",
       "  'winner': 'washington-st'},\n",
       " {'gameId': '2427535',\n",
       "  'homeTeam': 'iowa-st',\n",
       "  'awayTeam': 'south-dakota-st',\n",
       "  'homeScore': '82',\n",
       "  'awayScore': '65',\n",
       "  'gameDate': '03-21-2024',\n",
       "  'status': 'FINAL',\n",
       "  'bracketId': '208',\n",
       "  'winner': 'iowa-st'},\n",
       " {'gameId': '2427536',\n",
       "  'homeTeam': 'north-carolina',\n",
       "  'awayTeam': 'wagner',\n",
       "  'homeScore': '90',\n",
       "  'awayScore': '62',\n",
       "  'gameDate': '03-21-2024',\n",
       "  'status': 'FINAL',\n",
       "  'bracketId': '209',\n",
       "  'winner': 'north-carolina'},\n",
       " {'gameId': '2427537',\n",
       "  'homeTeam': 'mississippi-st',\n",
       "  'awayTeam': 'michigan-st',\n",
       "  'homeScore': '51',\n",
       "  'awayScore': '69',\n",
       "  'gameDate': '03-21-2024',\n",
       "  'status': 'FINAL',\n",
       "  'bracketId': '210',\n",
       "  'winner': 'michigan-st'},\n",
       " {'gameId': '2427540',\n",
       "  'homeTeam': 'dayton',\n",
       "  'awayTeam': 'nevada',\n",
       "  'homeScore': '63',\n",
       "  'awayScore': '60',\n",
       "  'gameDate': '03-21-2024',\n",
       "  'status': 'FINAL',\n",
       "  'bracketId': '215',\n",
       "  'winner': 'dayton'},\n",
       " {'gameId': '2427541',\n",
       "  'homeTeam': 'arizona',\n",
       "  'awayTeam': 'long-beach-st',\n",
       "  'homeScore': '85',\n",
       "  'awayScore': '65',\n",
       "  'gameDate': '03-21-2024',\n",
       "  'status': 'FINAL',\n",
       "  'bracketId': '216',\n",
       "  'winner': 'arizona'},\n",
       " {'gameId': '2427544',\n",
       "  'homeTeam': 'texas-tech',\n",
       "  'awayTeam': 'north-carolina-st',\n",
       "  'homeScore': '67',\n",
       "  'awayScore': '80',\n",
       "  'gameDate': '03-21-2024',\n",
       "  'status': 'FINAL',\n",
       "  'bracketId': '221',\n",
       "  'winner': 'north-carolina-st'},\n",
       " {'gameId': '2427545',\n",
       "  'homeTeam': 'kentucky',\n",
       "  'awayTeam': 'oakland',\n",
       "  'homeScore': '76',\n",
       "  'awayScore': '80',\n",
       "  'gameDate': '03-21-2024',\n",
       "  'status': 'FINAL',\n",
       "  'bracketId': '222',\n",
       "  'winner': 'oakland'},\n",
       " {'gameId': '2427542',\n",
       "  'homeTeam': 'gonzaga',\n",
       "  'awayTeam': 'mcneese',\n",
       "  'homeScore': '86',\n",
       "  'awayScore': '65',\n",
       "  'gameDate': '03-21-2024',\n",
       "  'status': 'FINAL',\n",
       "  'bracketId': '227',\n",
       "  'winner': 'gonzaga'},\n",
       " {'gameId': '2427543',\n",
       "  'homeTeam': 'kansas',\n",
       "  'awayTeam': 'samford',\n",
       "  'homeScore': '93',\n",
       "  'awayScore': '89',\n",
       "  'gameDate': '03-21-2024',\n",
       "  'status': 'FINAL',\n",
       "  'bracketId': '228',\n",
       "  'winner': 'kansas'},\n",
       " {'gameId': '2427546',\n",
       "  'homeTeam': 'south-carolina',\n",
       "  'awayTeam': 'oregon',\n",
       "  'homeScore': '73',\n",
       "  'awayScore': '87',\n",
       "  'gameDate': '03-21-2024',\n",
       "  'status': 'FINAL',\n",
       "  'bracketId': '229',\n",
       "  'winner': 'oregon'},\n",
       " {'gameId': '2427547',\n",
       "  'homeTeam': 'creighton',\n",
       "  'awayTeam': 'akron',\n",
       "  'homeScore': '77',\n",
       "  'awayScore': '60',\n",
       "  'gameDate': '03-21-2024',\n",
       "  'status': 'FINAL',\n",
       "  'bracketId': '230',\n",
       "  'winner': 'creighton'},\n",
       " {'gameId': '2427538',\n",
       "  'homeTeam': 'texas',\n",
       "  'awayTeam': 'colorado-st',\n",
       "  'homeScore': '56',\n",
       "  'awayScore': '44',\n",
       "  'gameDate': '03-21-2024',\n",
       "  'status': 'FINAL',\n",
       "  'bracketId': '231',\n",
       "  'winner': 'texas'},\n",
       " {'gameId': '2427539',\n",
       "  'homeTeam': 'tennessee',\n",
       "  'awayTeam': 'st-peters',\n",
       "  'homeScore': '83',\n",
       "  'awayScore': '49',\n",
       "  'gameDate': '03-21-2024',\n",
       "  'status': 'FINAL',\n",
       "  'bracketId': '232',\n",
       "  'winner': 'tennessee'}]"
      ]
     },
     "execution_count": 24,
     "metadata": {},
     "output_type": "execute_result"
    }
   ],
   "source": [
    "sorted(day_simplified, key=lambda x: x[\"bracketId\"])"
   ]
  },
  {
   "cell_type": "code",
   "execution_count": 28,
   "id": "b31ecf9a",
   "metadata": {},
   "outputs": [],
   "source": [
    "bracket_data = {\n",
    "  \"east\": {\n",
    "    \"round_1\": [None, \"2427535\", \"2427533\", None, None, \"2427532\", \"2427534\", None],\n",
    "  },\n",
    "  \"midwest\": {\n",
    "    \"round_1\": [None, \"2427539\", \"2427547\", \"2427543\", \"2427542\", \"2427546\", \"2427538\", None],\n",
    "  },\n",
    "  \"south\": {\n",
    "    \"round_1\": [None, None, \"2427545\", None, None, \"2427544\", None, None],\n",
    "  },\n",
    "  \"west\": {\n",
    "    \"round_1\": [\"2427536\", \"2427541\", None, None, None, None, \"2427540\", \"2427537\"],\n",
    "  },\n",
    "}\n",
    "\n",
    "data = {\n",
    "    \"year\": 2024,\n",
    "    \"newMappings\": bracket_data,\n",
    "}"
   ]
  },
  {
   "cell_type": "code",
   "execution_count": 29,
   "id": "071f390f",
   "metadata": {},
   "outputs": [
    {
     "data": {
      "text/plain": [
       "'{\"year\": 2024, \"newMappings\": {\"east\": {\"round_1\": [null, \"2427535\", \"2427533\", null, null, \"2427532\", \"2427534\", null]}, \"midwest\": {\"round_1\": [null, \"2427539\", \"2427547\", \"2427543\", \"2427542\", \"2427546\", \"2427538\", null]}, \"south\": {\"round_1\": [null, null, \"2427545\", null, null, \"2427544\", null, null]}, \"west\": {\"round_1\": [\"2427536\", \"2427541\", null, null, null, null, \"2427540\", \"2427537\"]}}}'"
      ]
     },
     "execution_count": 29,
     "metadata": {},
     "output_type": "execute_result"
    }
   ],
   "source": [
    "import json\n",
    "\n",
    "json.dumps(data)"
   ]
  },
  {
   "cell_type": "code",
   "execution_count": 38,
   "id": "9cd8fb09",
   "metadata": {},
   "outputs": [
    {
     "data": {
      "text/plain": [
       "[0, 7, 5, 3, 2, 4, 6, 1]"
      ]
     },
     "execution_count": 38,
     "metadata": {},
     "output_type": "execute_result"
    }
   ],
   "source": [
    "x = [1, 8, 5, 4, 6, 3, 7, 2]\n",
    "\n",
    "[x.index(i+1) for i in range(8)]"
   ]
  },
  {
   "cell_type": "code",
   "execution_count": 34,
   "id": "c8209cc8",
   "metadata": {},
   "outputs": [
    {
     "data": {
      "text/plain": [
       "7"
      ]
     },
     "execution_count": 34,
     "metadata": {},
     "output_type": "execute_result"
    }
   ],
   "source": [
    "x.index(2)"
   ]
  },
  {
   "cell_type": "code",
   "execution_count": null,
   "id": "e6f0a964",
   "metadata": {},
   "outputs": [],
   "source": [
    "[0, 6, 4, 2, 3, 5, 7, 1]"
   ]
  }
 ],
 "metadata": {
  "kernelspec": {
   "display_name": "Python 3 (ipykernel)",
   "language": "python",
   "name": "python3"
  },
  "language_info": {
   "codemirror_mode": {
    "name": "ipython",
    "version": 3
   },
   "file_extension": ".py",
   "mimetype": "text/x-python",
   "name": "python",
   "nbconvert_exporter": "python",
   "pygments_lexer": "ipython3",
   "version": "3.9.16"
  }
 },
 "nbformat": 4,
 "nbformat_minor": 5
}
